{
 "cells": [
  {
   "cell_type": "markdown",
   "id": "da251b1b",
   "metadata": {},
   "source": [
    "# Bollywood Data Exploration\n",
    "This notebook contains a small exploratory analysis and instructions to run the Streamlit dashboard '🎥 Balancing Fame and Talent in Bollywood'."
   ]
  },
  {
   "cell_type": "code",
   "execution_count": 1,
   "id": "cf78b049",
   "metadata": {},
   "outputs": [
    {
     "data": {
      "text/html": [
       "<div>\n",
       "<style scoped>\n",
       "    .dataframe tbody tr th:only-of-type {\n",
       "        vertical-align: middle;\n",
       "    }\n",
       "\n",
       "    .dataframe tbody tr th {\n",
       "        vertical-align: top;\n",
       "    }\n",
       "\n",
       "    .dataframe thead th {\n",
       "        text-align: right;\n",
       "    }\n",
       "</style>\n",
       "<table border=\"1\" class=\"dataframe\">\n",
       "  <thead>\n",
       "    <tr style=\"text-align: right;\">\n",
       "      <th></th>\n",
       "      <th>actorId</th>\n",
       "      <th>actor</th>\n",
       "      <th>movieCount</th>\n",
       "      <th>ratingSum</th>\n",
       "      <th>normalizedMovieRank</th>\n",
       "      <th>googleHits</th>\n",
       "      <th>normalizedGoogleRank</th>\n",
       "      <th>normalizedRating</th>\n",
       "      <th>avgRating</th>\n",
       "      <th>fameScore</th>\n",
       "      <th>talentScore</th>\n",
       "      <th>balanceScore</th>\n",
       "    </tr>\n",
       "  </thead>\n",
       "  <tbody>\n",
       "    <tr>\n",
       "      <th>0</th>\n",
       "      <td>373</td>\n",
       "      <td>Aamir Khan</td>\n",
       "      <td>11</td>\n",
       "      <td>1170</td>\n",
       "      <td>0.938736</td>\n",
       "      <td>2460000</td>\n",
       "      <td>0.704759</td>\n",
       "      <td>1.000000</td>\n",
       "      <td>106.363636</td>\n",
       "      <td>0.821747</td>\n",
       "      <td>1.000000</td>\n",
       "      <td>0.821747</td>\n",
       "    </tr>\n",
       "    <tr>\n",
       "      <th>1</th>\n",
       "      <td>374</td>\n",
       "      <td>Shah Rukh Khan</td>\n",
       "      <td>23</td>\n",
       "      <td>2000</td>\n",
       "      <td>0.727788</td>\n",
       "      <td>2670000</td>\n",
       "      <td>0.764953</td>\n",
       "      <td>0.914082</td>\n",
       "      <td>86.956522</td>\n",
       "      <td>0.746371</td>\n",
       "      <td>0.914082</td>\n",
       "      <td>0.832288</td>\n",
       "    </tr>\n",
       "    <tr>\n",
       "      <th>2</th>\n",
       "      <td>375</td>\n",
       "      <td>Salman Khan</td>\n",
       "      <td>36</td>\n",
       "      <td>2340</td>\n",
       "      <td>0.489130</td>\n",
       "      <td>3490000</td>\n",
       "      <td>1.000000</td>\n",
       "      <td>0.912023</td>\n",
       "      <td>65.000000</td>\n",
       "      <td>0.744565</td>\n",
       "      <td>0.912023</td>\n",
       "      <td>0.832542</td>\n",
       "    </tr>\n",
       "    <tr>\n",
       "      <th>3</th>\n",
       "      <td>376</td>\n",
       "      <td>Katrina Kaif</td>\n",
       "      <td>17</td>\n",
       "      <td>1640</td>\n",
       "      <td>0.831202</td>\n",
       "      <td>2120000</td>\n",
       "      <td>0.607300</td>\n",
       "      <td>0.883169</td>\n",
       "      <td>96.470588</td>\n",
       "      <td>0.719251</td>\n",
       "      <td>0.883169</td>\n",
       "      <td>0.836082</td>\n",
       "    </tr>\n",
       "    <tr>\n",
       "      <th>4</th>\n",
       "      <td>377</td>\n",
       "      <td>Deepika Padukone</td>\n",
       "      <td>16</td>\n",
       "      <td>1080</td>\n",
       "      <td>0.516304</td>\n",
       "      <td>3000000</td>\n",
       "      <td>0.859546</td>\n",
       "      <td>0.847462</td>\n",
       "      <td>67.500000</td>\n",
       "      <td>0.687925</td>\n",
       "      <td>0.847462</td>\n",
       "      <td>0.840463</td>\n",
       "    </tr>\n",
       "  </tbody>\n",
       "</table>\n",
       "</div>"
      ],
      "text/plain": [
       "   actorId             actor  movieCount  ratingSum  normalizedMovieRank  \\\n",
       "0      373        Aamir Khan          11       1170             0.938736   \n",
       "1      374    Shah Rukh Khan          23       2000             0.727788   \n",
       "2      375       Salman Khan          36       2340             0.489130   \n",
       "3      376      Katrina Kaif          17       1640             0.831202   \n",
       "4      377  Deepika Padukone          16       1080             0.516304   \n",
       "\n",
       "   googleHits  normalizedGoogleRank  normalizedRating   avgRating  fameScore  \\\n",
       "0     2460000              0.704759          1.000000  106.363636   0.821747   \n",
       "1     2670000              0.764953          0.914082   86.956522   0.746371   \n",
       "2     3490000              1.000000          0.912023   65.000000   0.744565   \n",
       "3     2120000              0.607300          0.883169   96.470588   0.719251   \n",
       "4     3000000              0.859546          0.847462   67.500000   0.687925   \n",
       "\n",
       "   talentScore  balanceScore  \n",
       "0     1.000000      0.821747  \n",
       "1     0.914082      0.832288  \n",
       "2     0.912023      0.832542  \n",
       "3     0.883169      0.836082  \n",
       "4     0.847462      0.840463  "
      ]
     },
     "execution_count": 1,
     "metadata": {},
     "output_type": "execute_result"
    }
   ],
   "source": [
    "import pandas as pd\n",
    "import numpy as np\n",
    "import plotly.express as px\n",
    "# Load the provided dataset (handle common NULL tokens)\n",
    "df = pd.read_csv('data/BollywoodActorRanking (2).csv', na_values=['NULL','null'])\n",
    "# Normalize column names: actorName -> actor\n",
    "if 'actorName' in df.columns and 'actor' not in df.columns:\n",
    "    df = df.rename(columns={'actorName':'actor'})\n",
    "# Basic cleaning\n",
    "df = df.drop_duplicates()\n",
    "# Ensure numeric types\n",
    "for c in ['movieCount','ratingSum','googleHits']:\n",
    "    if c in df.columns:\n",
    "        df[c] = pd.to_numeric(df[c], errors='coerce')\n",
    "# Drop rows missing essential fields\n",
    "df = df.dropna(subset=['actor','movieCount','ratingSum']).copy()\n",
    "# Remove non-positive movie counts\n",
    "df = df[df['movieCount'] > 0].copy()\n",
    "# Compute avgRating and create normalized columns if missing\n",
    "df['avgRating'] = df['ratingSum'] / df['movieCount']\n",
    "# Ensure normalized columns are 0-1 scaled; if present on 0-10 scale, rescale\n",
    "for col in ['normalizedMovieRank','normalizedGoogleRank','normalizedRating']:\n",
    "    if col in df.columns:\n",
    "        df[col] = pd.to_numeric(df[col], errors='coerce')\n",
    "        if df[col].max() > 1.1:\n",
    "            df[col] = (df[col] - df[col].min()) / (df[col].max() - df[col].min())\n",
    "    else:\n",
    "        # create proxy normalized columns\n",
    "        if col == 'normalizedMovieRank':\n",
    "            base = df['movieCount']\n",
    "        elif col == 'normalizedGoogleRank' and 'googleHits' in df.columns:\n",
    "            base = df['googleHits']\n",
    "        elif col == 'normalizedRating':\n",
    "            base = df['avgRating']\n",
    "        else:\n",
    "            base = None\n",
    "        if base is not None:\n",
    "            df[col] = (base - base.min()) / (base.max() - base.min())\n",
    "        else:\n",
    "            df[col] = 0.0\n",
    "# Fill NaNs in normalized cols with column mean\n",
    "for col in ['normalizedMovieRank','normalizedGoogleRank','normalizedRating']:\n",
    "    df[col] = df[col].fillna(df[col].mean())\n",
    "# KPIs\n",
    "df['fameScore'] = 0.5 * df['normalizedGoogleRank'] + 0.5 * df['normalizedMovieRank']\n",
    "df['talentScore'] = df['normalizedRating']\n",
    "df['balanceScore'] = 1 - (df['fameScore'] - df['talentScore']).abs()\n",
    "df.head()"
   ]
  },
  {
   "cell_type": "code",
   "execution_count": 2,
   "id": "feb741a6",
   "metadata": {},
   "outputs": [
    {
     "name": "stdout",
     "output_type": "stream",
     "text": [
      "rows, cols: (299, 12)\n",
      "nulls (per column):\n",
      "actorId                 0\n",
      "actor                   0\n",
      "movieCount              0\n",
      "ratingSum               0\n",
      "normalizedMovieRank     0\n",
      "googleHits              0\n",
      "normalizedGoogleRank    0\n",
      "normalizedRating        0\n",
      "avgRating               0\n",
      "fameScore               0\n",
      "talentScore             0\n",
      "balanceScore            0\n",
      "dtype: int64\n",
      "duplicates: 0\n"
     ]
    },
    {
     "data": {
      "text/html": [
       "<div>\n",
       "<style scoped>\n",
       "    .dataframe tbody tr th:only-of-type {\n",
       "        vertical-align: middle;\n",
       "    }\n",
       "\n",
       "    .dataframe tbody tr th {\n",
       "        vertical-align: top;\n",
       "    }\n",
       "\n",
       "    .dataframe thead th {\n",
       "        text-align: right;\n",
       "    }\n",
       "</style>\n",
       "<table border=\"1\" class=\"dataframe\">\n",
       "  <thead>\n",
       "    <tr style=\"text-align: right;\">\n",
       "      <th></th>\n",
       "      <th>actorId</th>\n",
       "      <th>actor</th>\n",
       "      <th>movieCount</th>\n",
       "      <th>ratingSum</th>\n",
       "      <th>normalizedMovieRank</th>\n",
       "      <th>googleHits</th>\n",
       "      <th>normalizedGoogleRank</th>\n",
       "      <th>normalizedRating</th>\n",
       "      <th>avgRating</th>\n",
       "      <th>fameScore</th>\n",
       "      <th>talentScore</th>\n",
       "      <th>balanceScore</th>\n",
       "    </tr>\n",
       "  </thead>\n",
       "  <tbody>\n",
       "    <tr>\n",
       "      <th>count</th>\n",
       "      <td>299.000000</td>\n",
       "      <td>299</td>\n",
       "      <td>299.000000</td>\n",
       "      <td>299.000000</td>\n",
       "      <td>299.000000</td>\n",
       "      <td>2.990000e+02</td>\n",
       "      <td>299.000000</td>\n",
       "      <td>299.000000</td>\n",
       "      <td>299.000000</td>\n",
       "      <td>299.000000</td>\n",
       "      <td>299.000000</td>\n",
       "      <td>299.000000</td>\n",
       "    </tr>\n",
       "    <tr>\n",
       "      <th>unique</th>\n",
       "      <td>NaN</td>\n",
       "      <td>299</td>\n",
       "      <td>NaN</td>\n",
       "      <td>NaN</td>\n",
       "      <td>NaN</td>\n",
       "      <td>NaN</td>\n",
       "      <td>NaN</td>\n",
       "      <td>NaN</td>\n",
       "      <td>NaN</td>\n",
       "      <td>NaN</td>\n",
       "      <td>NaN</td>\n",
       "      <td>NaN</td>\n",
       "    </tr>\n",
       "    <tr>\n",
       "      <th>top</th>\n",
       "      <td>NaN</td>\n",
       "      <td>Pankaj Berry</td>\n",
       "      <td>NaN</td>\n",
       "      <td>NaN</td>\n",
       "      <td>NaN</td>\n",
       "      <td>NaN</td>\n",
       "      <td>NaN</td>\n",
       "      <td>NaN</td>\n",
       "      <td>NaN</td>\n",
       "      <td>NaN</td>\n",
       "      <td>NaN</td>\n",
       "      <td>NaN</td>\n",
       "    </tr>\n",
       "    <tr>\n",
       "      <th>freq</th>\n",
       "      <td>NaN</td>\n",
       "      <td>1</td>\n",
       "      <td>NaN</td>\n",
       "      <td>NaN</td>\n",
       "      <td>NaN</td>\n",
       "      <td>NaN</td>\n",
       "      <td>NaN</td>\n",
       "      <td>NaN</td>\n",
       "      <td>NaN</td>\n",
       "      <td>NaN</td>\n",
       "      <td>NaN</td>\n",
       "      <td>NaN</td>\n",
       "    </tr>\n",
       "    <tr>\n",
       "      <th>mean</th>\n",
       "      <td>522.000000</td>\n",
       "      <td>NaN</td>\n",
       "      <td>10.301003</td>\n",
       "      <td>421.939799</td>\n",
       "      <td>0.196552</td>\n",
       "      <td>3.766915e+05</td>\n",
       "      <td>0.170437</td>\n",
       "      <td>0.213450</td>\n",
       "      <td>38.082806</td>\n",
       "      <td>0.183495</td>\n",
       "      <td>0.213450</td>\n",
       "      <td>0.915310</td>\n",
       "    </tr>\n",
       "    <tr>\n",
       "      <th>std</th>\n",
       "      <td>86.458082</td>\n",
       "      <td>NaN</td>\n",
       "      <td>8.495737</td>\n",
       "      <td>447.144838</td>\n",
       "      <td>0.180774</td>\n",
       "      <td>6.662341e+05</td>\n",
       "      <td>0.172225</td>\n",
       "      <td>0.194136</td>\n",
       "      <td>16.631251</td>\n",
       "      <td>0.149054</td>\n",
       "      <td>0.194136</td>\n",
       "      <td>0.022171</td>\n",
       "    </tr>\n",
       "    <tr>\n",
       "      <th>min</th>\n",
       "      <td>373.000000</td>\n",
       "      <td>NaN</td>\n",
       "      <td>4.000000</td>\n",
       "      <td>80.000000</td>\n",
       "      <td>0.000000</td>\n",
       "      <td>0.000000e+00</td>\n",
       "      <td>0.000000</td>\n",
       "      <td>0.000000</td>\n",
       "      <td>20.000000</td>\n",
       "      <td>0.000000</td>\n",
       "      <td>0.000000</td>\n",
       "      <td>0.821747</td>\n",
       "    </tr>\n",
       "    <tr>\n",
       "      <th>25%</th>\n",
       "      <td>447.500000</td>\n",
       "      <td>NaN</td>\n",
       "      <td>5.000000</td>\n",
       "      <td>150.000000</td>\n",
       "      <td>0.054348</td>\n",
       "      <td>0.000000e+00</td>\n",
       "      <td>0.051788</td>\n",
       "      <td>0.078664</td>\n",
       "      <td>25.000000</td>\n",
       "      <td>0.085219</td>\n",
       "      <td>0.078664</td>\n",
       "      <td>0.912111</td>\n",
       "    </tr>\n",
       "    <tr>\n",
       "      <th>50%</th>\n",
       "      <td>522.000000</td>\n",
       "      <td>NaN</td>\n",
       "      <td>7.000000</td>\n",
       "      <td>260.000000</td>\n",
       "      <td>0.152174</td>\n",
       "      <td>7.690000e+04</td>\n",
       "      <td>0.170437</td>\n",
       "      <td>0.164459</td>\n",
       "      <td>34.000000</td>\n",
       "      <td>0.133599</td>\n",
       "      <td>0.164459</td>\n",
       "      <td>0.919357</td>\n",
       "    </tr>\n",
       "    <tr>\n",
       "      <th>75%</th>\n",
       "      <td>596.500000</td>\n",
       "      <td>NaN</td>\n",
       "      <td>12.500000</td>\n",
       "      <td>500.000000</td>\n",
       "      <td>0.291227</td>\n",
       "      <td>3.855000e+05</td>\n",
       "      <td>0.170437</td>\n",
       "      <td>0.282362</td>\n",
       "      <td>46.792929</td>\n",
       "      <td>0.236412</td>\n",
       "      <td>0.282362</td>\n",
       "      <td>0.928264</td>\n",
       "    </tr>\n",
       "    <tr>\n",
       "      <th>max</th>\n",
       "      <td>671.000000</td>\n",
       "      <td>NaN</td>\n",
       "      <td>54.000000</td>\n",
       "      <td>2950.000000</td>\n",
       "      <td>1.000000</td>\n",
       "      <td>3.490000e+06</td>\n",
       "      <td>1.000000</td>\n",
       "      <td>1.000000</td>\n",
       "      <td>112.000000</td>\n",
       "      <td>0.821747</td>\n",
       "      <td>1.000000</td>\n",
       "      <td>0.975589</td>\n",
       "    </tr>\n",
       "  </tbody>\n",
       "</table>\n",
       "</div>"
      ],
      "text/plain": [
       "           actorId         actor  movieCount    ratingSum  \\\n",
       "count   299.000000           299  299.000000   299.000000   \n",
       "unique         NaN           299         NaN          NaN   \n",
       "top            NaN  Pankaj Berry         NaN          NaN   \n",
       "freq           NaN             1         NaN          NaN   \n",
       "mean    522.000000           NaN   10.301003   421.939799   \n",
       "std      86.458082           NaN    8.495737   447.144838   \n",
       "min     373.000000           NaN    4.000000    80.000000   \n",
       "25%     447.500000           NaN    5.000000   150.000000   \n",
       "50%     522.000000           NaN    7.000000   260.000000   \n",
       "75%     596.500000           NaN   12.500000   500.000000   \n",
       "max     671.000000           NaN   54.000000  2950.000000   \n",
       "\n",
       "        normalizedMovieRank    googleHits  normalizedGoogleRank  \\\n",
       "count            299.000000  2.990000e+02            299.000000   \n",
       "unique                  NaN           NaN                   NaN   \n",
       "top                     NaN           NaN                   NaN   \n",
       "freq                    NaN           NaN                   NaN   \n",
       "mean               0.196552  3.766915e+05              0.170437   \n",
       "std                0.180774  6.662341e+05              0.172225   \n",
       "min                0.000000  0.000000e+00              0.000000   \n",
       "25%                0.054348  0.000000e+00              0.051788   \n",
       "50%                0.152174  7.690000e+04              0.170437   \n",
       "75%                0.291227  3.855000e+05              0.170437   \n",
       "max                1.000000  3.490000e+06              1.000000   \n",
       "\n",
       "        normalizedRating   avgRating   fameScore  talentScore  balanceScore  \n",
       "count         299.000000  299.000000  299.000000   299.000000    299.000000  \n",
       "unique               NaN         NaN         NaN          NaN           NaN  \n",
       "top                  NaN         NaN         NaN          NaN           NaN  \n",
       "freq                 NaN         NaN         NaN          NaN           NaN  \n",
       "mean            0.213450   38.082806    0.183495     0.213450      0.915310  \n",
       "std             0.194136   16.631251    0.149054     0.194136      0.022171  \n",
       "min             0.000000   20.000000    0.000000     0.000000      0.821747  \n",
       "25%             0.078664   25.000000    0.085219     0.078664      0.912111  \n",
       "50%             0.164459   34.000000    0.133599     0.164459      0.919357  \n",
       "75%             0.282362   46.792929    0.236412     0.282362      0.928264  \n",
       "max             1.000000  112.000000    0.821747     1.000000      0.975589  "
      ]
     },
     "execution_count": 2,
     "metadata": {},
     "output_type": "execute_result"
    }
   ],
   "source": [
    "# Basic cleaning checks and summary\n",
    "print('rows, cols:', df.shape)\n",
    "print('nulls (per column):')\n",
    "print(df.isnull().sum())\n",
    "print('duplicates:', df.duplicated().sum())\n",
    "df.describe(include='all')"
   ]
  },
  {
   "cell_type": "code",
   "execution_count": 3,
   "id": "4bb21bb5",
   "metadata": {},
   "outputs": [
    {
     "name": "stdout",
     "output_type": "stream",
     "text": [
      "Top 10 by fameScore\n"
     ]
    },
    {
     "data": {
      "text/html": [
       "<div>\n",
       "<style scoped>\n",
       "    .dataframe tbody tr th:only-of-type {\n",
       "        vertical-align: middle;\n",
       "    }\n",
       "\n",
       "    .dataframe tbody tr th {\n",
       "        vertical-align: top;\n",
       "    }\n",
       "\n",
       "    .dataframe thead th {\n",
       "        text-align: right;\n",
       "    }\n",
       "</style>\n",
       "<table border=\"1\" class=\"dataframe\">\n",
       "  <thead>\n",
       "    <tr style=\"text-align: right;\">\n",
       "      <th></th>\n",
       "      <th>actor</th>\n",
       "      <th>fameScore</th>\n",
       "      <th>talentScore</th>\n",
       "      <th>avgRating</th>\n",
       "    </tr>\n",
       "  </thead>\n",
       "  <tbody>\n",
       "    <tr>\n",
       "      <th>0</th>\n",
       "      <td>Aamir Khan</td>\n",
       "      <td>0.821747</td>\n",
       "      <td>1.000000</td>\n",
       "      <td>106.363636</td>\n",
       "    </tr>\n",
       "    <tr>\n",
       "      <th>1</th>\n",
       "      <td>Shah Rukh Khan</td>\n",
       "      <td>0.746371</td>\n",
       "      <td>0.914082</td>\n",
       "      <td>86.956522</td>\n",
       "    </tr>\n",
       "    <tr>\n",
       "      <th>2</th>\n",
       "      <td>Salman Khan</td>\n",
       "      <td>0.744565</td>\n",
       "      <td>0.912023</td>\n",
       "      <td>65.000000</td>\n",
       "    </tr>\n",
       "    <tr>\n",
       "      <th>3</th>\n",
       "      <td>Katrina Kaif</td>\n",
       "      <td>0.719251</td>\n",
       "      <td>0.883169</td>\n",
       "      <td>96.470588</td>\n",
       "    </tr>\n",
       "    <tr>\n",
       "      <th>4</th>\n",
       "      <td>Deepika Padukone</td>\n",
       "      <td>0.687925</td>\n",
       "      <td>0.847462</td>\n",
       "      <td>67.500000</td>\n",
       "    </tr>\n",
       "    <tr>\n",
       "      <th>5</th>\n",
       "      <td>Hrithik Roshan</td>\n",
       "      <td>0.651349</td>\n",
       "      <td>0.805771</td>\n",
       "      <td>70.000000</td>\n",
       "    </tr>\n",
       "    <tr>\n",
       "      <th>6</th>\n",
       "      <td>Priyanka Chopra</td>\n",
       "      <td>0.640132</td>\n",
       "      <td>0.792984</td>\n",
       "      <td>55.277778</td>\n",
       "    </tr>\n",
       "    <tr>\n",
       "      <th>7</th>\n",
       "      <td>Kareena Kapoor</td>\n",
       "      <td>0.635627</td>\n",
       "      <td>0.787850</td>\n",
       "      <td>59.459459</td>\n",
       "    </tr>\n",
       "    <tr>\n",
       "      <th>8</th>\n",
       "      <td>Ranbir Kapoor</td>\n",
       "      <td>0.597414</td>\n",
       "      <td>0.744293</td>\n",
       "      <td>80.909091</td>\n",
       "    </tr>\n",
       "    <tr>\n",
       "      <th>9</th>\n",
       "      <td>Kajol</td>\n",
       "      <td>0.553834</td>\n",
       "      <td>0.694618</td>\n",
       "      <td>75.000000</td>\n",
       "    </tr>\n",
       "  </tbody>\n",
       "</table>\n",
       "</div>"
      ],
      "text/plain": [
       "              actor  fameScore  talentScore   avgRating\n",
       "0        Aamir Khan   0.821747     1.000000  106.363636\n",
       "1    Shah Rukh Khan   0.746371     0.914082   86.956522\n",
       "2       Salman Khan   0.744565     0.912023   65.000000\n",
       "3      Katrina Kaif   0.719251     0.883169   96.470588\n",
       "4  Deepika Padukone   0.687925     0.847462   67.500000\n",
       "5    Hrithik Roshan   0.651349     0.805771   70.000000\n",
       "6   Priyanka Chopra   0.640132     0.792984   55.277778\n",
       "7    Kareena Kapoor   0.635627     0.787850   59.459459\n",
       "8     Ranbir Kapoor   0.597414     0.744293   80.909091\n",
       "9             Kajol   0.553834     0.694618   75.000000"
      ]
     },
     "metadata": {},
     "output_type": "display_data"
    },
    {
     "name": "stdout",
     "output_type": "stream",
     "text": [
      "Top 10 by talentScore\n"
     ]
    },
    {
     "data": {
      "text/html": [
       "<div>\n",
       "<style scoped>\n",
       "    .dataframe tbody tr th:only-of-type {\n",
       "        vertical-align: middle;\n",
       "    }\n",
       "\n",
       "    .dataframe tbody tr th {\n",
       "        vertical-align: top;\n",
       "    }\n",
       "\n",
       "    .dataframe thead th {\n",
       "        text-align: right;\n",
       "    }\n",
       "</style>\n",
       "<table border=\"1\" class=\"dataframe\">\n",
       "  <thead>\n",
       "    <tr style=\"text-align: right;\">\n",
       "      <th></th>\n",
       "      <th>actor</th>\n",
       "      <th>talentScore</th>\n",
       "      <th>fameScore</th>\n",
       "      <th>avgRating</th>\n",
       "    </tr>\n",
       "  </thead>\n",
       "  <tbody>\n",
       "    <tr>\n",
       "      <th>0</th>\n",
       "      <td>Aamir Khan</td>\n",
       "      <td>1.000000</td>\n",
       "      <td>0.821747</td>\n",
       "      <td>106.363636</td>\n",
       "    </tr>\n",
       "    <tr>\n",
       "      <th>1</th>\n",
       "      <td>Shah Rukh Khan</td>\n",
       "      <td>0.914082</td>\n",
       "      <td>0.746371</td>\n",
       "      <td>86.956522</td>\n",
       "    </tr>\n",
       "    <tr>\n",
       "      <th>2</th>\n",
       "      <td>Salman Khan</td>\n",
       "      <td>0.912023</td>\n",
       "      <td>0.744565</td>\n",
       "      <td>65.000000</td>\n",
       "    </tr>\n",
       "    <tr>\n",
       "      <th>3</th>\n",
       "      <td>Katrina Kaif</td>\n",
       "      <td>0.883169</td>\n",
       "      <td>0.719251</td>\n",
       "      <td>96.470588</td>\n",
       "    </tr>\n",
       "    <tr>\n",
       "      <th>4</th>\n",
       "      <td>Deepika Padukone</td>\n",
       "      <td>0.847462</td>\n",
       "      <td>0.687925</td>\n",
       "      <td>67.500000</td>\n",
       "    </tr>\n",
       "    <tr>\n",
       "      <th>5</th>\n",
       "      <td>Hrithik Roshan</td>\n",
       "      <td>0.805771</td>\n",
       "      <td>0.651349</td>\n",
       "      <td>70.000000</td>\n",
       "    </tr>\n",
       "    <tr>\n",
       "      <th>6</th>\n",
       "      <td>Priyanka Chopra</td>\n",
       "      <td>0.792984</td>\n",
       "      <td>0.640132</td>\n",
       "      <td>55.277778</td>\n",
       "    </tr>\n",
       "    <tr>\n",
       "      <th>7</th>\n",
       "      <td>Kareena Kapoor</td>\n",
       "      <td>0.787850</td>\n",
       "      <td>0.635627</td>\n",
       "      <td>59.459459</td>\n",
       "    </tr>\n",
       "    <tr>\n",
       "      <th>8</th>\n",
       "      <td>Ranbir Kapoor</td>\n",
       "      <td>0.744293</td>\n",
       "      <td>0.597414</td>\n",
       "      <td>80.909091</td>\n",
       "    </tr>\n",
       "    <tr>\n",
       "      <th>9</th>\n",
       "      <td>Kajol</td>\n",
       "      <td>0.694618</td>\n",
       "      <td>0.553834</td>\n",
       "      <td>75.000000</td>\n",
       "    </tr>\n",
       "  </tbody>\n",
       "</table>\n",
       "</div>"
      ],
      "text/plain": [
       "              actor  talentScore  fameScore   avgRating\n",
       "0        Aamir Khan     1.000000   0.821747  106.363636\n",
       "1    Shah Rukh Khan     0.914082   0.746371   86.956522\n",
       "2       Salman Khan     0.912023   0.744565   65.000000\n",
       "3      Katrina Kaif     0.883169   0.719251   96.470588\n",
       "4  Deepika Padukone     0.847462   0.687925   67.500000\n",
       "5    Hrithik Roshan     0.805771   0.651349   70.000000\n",
       "6   Priyanka Chopra     0.792984   0.640132   55.277778\n",
       "7    Kareena Kapoor     0.787850   0.635627   59.459459\n",
       "8     Ranbir Kapoor     0.744293   0.597414   80.909091\n",
       "9             Kajol     0.694618   0.553834   75.000000"
      ]
     },
     "metadata": {},
     "output_type": "display_data"
    },
    {
     "name": "stdout",
     "output_type": "stream",
     "text": [
      "Top 10 by balanceScore (most balanced)\n"
     ]
    },
    {
     "data": {
      "text/html": [
       "<div>\n",
       "<style scoped>\n",
       "    .dataframe tbody tr th:only-of-type {\n",
       "        vertical-align: middle;\n",
       "    }\n",
       "\n",
       "    .dataframe tbody tr th {\n",
       "        vertical-align: top;\n",
       "    }\n",
       "\n",
       "    .dataframe thead th {\n",
       "        text-align: right;\n",
       "    }\n",
       "</style>\n",
       "<table border=\"1\" class=\"dataframe\">\n",
       "  <thead>\n",
       "    <tr style=\"text-align: right;\">\n",
       "      <th></th>\n",
       "      <th>actor</th>\n",
       "      <th>balanceScore</th>\n",
       "      <th>fameScore</th>\n",
       "      <th>talentScore</th>\n",
       "    </tr>\n",
       "  </thead>\n",
       "  <tbody>\n",
       "    <tr>\n",
       "      <th>30</th>\n",
       "      <td>Jacqueline Fernandez</td>\n",
       "      <td>0.975589</td>\n",
       "      <td>0.520001</td>\n",
       "      <td>0.495590</td>\n",
       "    </tr>\n",
       "    <tr>\n",
       "      <th>44</th>\n",
       "      <td>Aditya Roy Kapoor</td>\n",
       "      <td>0.962287</td>\n",
       "      <td>0.424893</td>\n",
       "      <td>0.387180</td>\n",
       "    </tr>\n",
       "    <tr>\n",
       "      <th>60</th>\n",
       "      <td>Rajkummar Rao</td>\n",
       "      <td>0.954686</td>\n",
       "      <td>0.370545</td>\n",
       "      <td>0.325231</td>\n",
       "    </tr>\n",
       "    <tr>\n",
       "      <th>64</th>\n",
       "      <td>Supriya Pathak</td>\n",
       "      <td>0.952787</td>\n",
       "      <td>0.356958</td>\n",
       "      <td>0.309744</td>\n",
       "    </tr>\n",
       "    <tr>\n",
       "      <th>65</th>\n",
       "      <td>Nawazuddin Siddiqui</td>\n",
       "      <td>0.952787</td>\n",
       "      <td>0.356958</td>\n",
       "      <td>0.309744</td>\n",
       "    </tr>\n",
       "    <tr>\n",
       "      <th>80</th>\n",
       "      <td>Shraddha Kapoor</td>\n",
       "      <td>0.947085</td>\n",
       "      <td>0.316197</td>\n",
       "      <td>0.263282</td>\n",
       "    </tr>\n",
       "    <tr>\n",
       "      <th>82</th>\n",
       "      <td>Manish Chaudhary</td>\n",
       "      <td>0.946452</td>\n",
       "      <td>0.311668</td>\n",
       "      <td>0.258120</td>\n",
       "    </tr>\n",
       "    <tr>\n",
       "      <th>86</th>\n",
       "      <td>Pavan Malhotra</td>\n",
       "      <td>0.945186</td>\n",
       "      <td>0.302610</td>\n",
       "      <td>0.247796</td>\n",
       "    </tr>\n",
       "    <tr>\n",
       "      <th>95</th>\n",
       "      <td>Mohammed Zeeshan Ayyub</td>\n",
       "      <td>0.943285</td>\n",
       "      <td>0.289023</td>\n",
       "      <td>0.232308</td>\n",
       "    </tr>\n",
       "    <tr>\n",
       "      <th>97</th>\n",
       "      <td>Genelia D'Souza</td>\n",
       "      <td>0.942651</td>\n",
       "      <td>0.284494</td>\n",
       "      <td>0.227146</td>\n",
       "    </tr>\n",
       "  </tbody>\n",
       "</table>\n",
       "</div>"
      ],
      "text/plain": [
       "                     actor  balanceScore  fameScore  talentScore\n",
       "30    Jacqueline Fernandez      0.975589   0.520001     0.495590\n",
       "44       Aditya Roy Kapoor      0.962287   0.424893     0.387180\n",
       "60           Rajkummar Rao      0.954686   0.370545     0.325231\n",
       "64          Supriya Pathak      0.952787   0.356958     0.309744\n",
       "65     Nawazuddin Siddiqui      0.952787   0.356958     0.309744\n",
       "80         Shraddha Kapoor      0.947085   0.316197     0.263282\n",
       "82        Manish Chaudhary      0.946452   0.311668     0.258120\n",
       "86          Pavan Malhotra      0.945186   0.302610     0.247796\n",
       "95  Mohammed Zeeshan Ayyub      0.943285   0.289023     0.232308\n",
       "97         Genelia D'Souza      0.942651   0.284494     0.227146"
      ]
     },
     "metadata": {},
     "output_type": "display_data"
    }
   ],
   "source": [
    "# Top and bottom actors by fame/talent/balance\n",
    "print('Top 10 by fameScore')\n",
    "display(df.sort_values('fameScore', ascending=False)[['actor','fameScore','talentScore','avgRating']].head(10))\n",
    "print('Top 10 by talentScore')\n",
    "display(df.sort_values('talentScore', ascending=False)[['actor','talentScore','fameScore','avgRating']].head(10))\n",
    "print('Top 10 by balanceScore (most balanced)')\n",
    "display(df.sort_values('balanceScore', ascending=False)[['actor','balanceScore','fameScore','talentScore']].head(10))"
   ]
  },
  {
   "cell_type": "code",
   "execution_count": 4,
   "id": "a2be8203",
   "metadata": {},
   "outputs": [
    {
     "name": "stdout",
     "output_type": "stream",
     "text": [
      "Pearson r = 0.918, p = 3.410e-121\n"
     ]
    },
    {
     "data": {
      "application/vnd.plotly.v1+json": {
       "config": {
        "plotlyServerURL": "https://plot.ly"
       },
       "data": [
        {
         "customdata": [
          [
           "Aamir Khan",
           106.36363636363636
          ],
          [
           "Shah Rukh Khan",
           86.95652173913044
          ],
          [
           "Salman Khan",
           65
          ],
          [
           "Katrina Kaif",
           96.47058823529412
          ],
          [
           "Deepika Padukone",
           67.5
          ],
          [
           "Hrithik Roshan",
           70
          ],
          [
           "Priyanka Chopra",
           55.27777777777778
          ],
          [
           "Kareena Kapoor",
           59.45945945945946
          ],
          [
           "Ranbir Kapoor",
           80.9090909090909
          ],
          [
           "Kajol",
           75
          ],
          [
           "John Abraham",
           50.74074074074074
          ],
          [
           "Amitabh Bachchan",
           44.583333333333336
          ],
          [
           "Sonakshi Sinha",
           91.25
          ],
          [
           "Alia Bhatt",
           85
          ],
          [
           "Ajay Devgn",
           47.3469387755102
          ],
          [
           "Asin",
           112
          ],
          [
           "Farhan Akhtar",
           61.666666666666664
          ],
          [
           "Arjun Kapoor",
           64
          ],
          [
           "Akshay Kumar",
           54.629629629629626
          ],
          [
           "Anushka Sharma",
           71.42857142857143
          ],
          [
           "Vidya Balan",
           65
          ],
          [
           "Aishwarya Rai Bachchan",
           48.75
          ],
          [
           "Ranveer Singh",
           70
          ],
          [
           "Vir Das",
           38.75
          ],
          [
           "Shahid Kapoor",
           47.82608695652174
          ],
          [
           "Saif Ali Khan",
           48.07692307692308
          ],
          [
           "Anil Kapoor",
           41.578947368421055
          ],
          [
           "Prakash Raj",
           55.714285714285715
          ],
          [
           "Sonam Kapoor",
           54.44444444444444
          ],
          [
           "Sanjay Kapoor",
           35
          ],
          [
           "Jacqueline Fernandez",
           100
          ],
          [
           "Abhishek Bachchan",
           52.05882352941177
          ],
          [
           "Imran Khan",
           56.666666666666664
          ],
          [
           "Rekha",
           44.44444444444444
          ],
          [
           "Tabu",
           43.75
          ],
          [
           "Madhavan",
           52.5
          ],
          [
           "Sanjay Dutt",
           40.46511627906977
          ],
          [
           "Parineeti Chopra",
           62
          ],
          [
           "Madhuri Dixit",
           44.285714285714285
          ],
          [
           "Preity Zinta",
           55
          ],
          [
           "Govinda",
           40
          ],
          [
           "Emraan Hashmi",
           53.84615384615385
          ],
          [
           "Bipasha Basu",
           46.1764705882353
          ],
          [
           "Uday Chopra",
           64.28571428571429
          ],
          [
           "Aditya Roy Kapoor",
           82.5
          ],
          [
           "Ritesh Deshmukh",
           63.5
          ],
          [
           "Rishi Kapoor",
           46.31578947368421
          ],
          [
           "Kangana Ranaut",
           47.22222222222222
          ],
          [
           "Dia Mirza",
           26.666666666666668
          ],
          [
           "Amrish Puri",
           66.36363636363636
          ],
          [
           "Amrita Rao",
           54.166666666666664
          ],
          [
           "Lara Dutta",
           47.64705882352941
          ],
          [
           "Om Puri",
           34.375
          ],
          [
           "Kiron Kher",
           65
          ],
          [
           "Mallika Sherawat",
           47.5
          ],
          [
           "Sonu Sood",
           43.333333333333336
          ],
          [
           "Nana Patekar",
           60
          ],
          [
           "Vinod Khanna",
           57.77777777777778
          ],
          [
           "Kalki Koechlin",
           53.333333333333336
          ],
          [
           "Rani Mukerji",
           52.22222222222222
          ],
          [
           "Rajkummar Rao",
           72.5
          ],
          [
           "Tusshar Kapoor",
           56.31578947368421
          ],
          [
           "Arjun Rampal",
           47.5
          ],
          [
           "Paresh Rawal",
           55.333333333333336
          ],
          [
           "Supriya Pathak",
           70
          ],
          [
           "Nawazuddin Siddiqui",
           70
          ],
          [
           "Naseeruddin Shah",
           53.1578947368421
          ],
          [
           "Randeep Hooda",
           50
          ],
          [
           "Jaya Bhaduri",
           56.666666666666664
          ],
          [
           "Karisma Kapoor",
           25
          ],
          [
           "Sharman Joshi",
           54.666666666666664
          ],
          [
           "Boman Irani",
           46.31578947368421
          ],
          [
           "Satish Shah",
           46.36363636363637
          ],
          [
           "Arshad Warsi",
           50
          ],
          [
           "Raj Babbar",
           49.166666666666664
          ],
          [
           "Shilpa Shetty",
           30
          ],
          [
           "Vivek Oberoi",
           41.111111111111114
          ],
          [
           "Anupam Kher",
           36.388888888888886
          ],
          [
           "Sameera Reddy",
           43.333333333333336
          ],
          [
           "Sunny Deol",
           34.4
          ],
          [
           "Shraddha Kapoor",
           62.5
          ],
          [
           "Akshaye Khanna",
           49.285714285714285
          ],
          [
           "Manish Chaudhary",
           61.666666666666664
          ],
          [
           "Sunil Shetty",
           36.42857142857143
          ],
          [
           "Sohail Khan",
           30.76923076923077
          ],
          [
           "Esha Deol",
           36.36363636363637
          ],
          [
           "Pavan Malhotra",
           60
          ],
          [
           "Sonali Kulkarni",
           42.5
          ],
          [
           "Rimi Sen",
           42.5
          ],
          [
           "Sushmita Sen",
           34.666666666666664
          ],
          [
           "Gracy Singh",
           43.333333333333336
          ],
          [
           "Kunal Khemu",
           46.25
          ],
          [
           "Juhi Chawla",
           35.38461538461539
          ],
          [
           "Vinay Pathak",
           45.38461538461539
          ],
          [
           "Dharmendra",
           35
          ],
          [
           "Mohammed Zeeshan Ayyub",
           57.5
          ],
          [
           "Ranvir Shorey",
           45
          ],
          [
           "Genelia D'Souza",
           56.666666666666664
          ],
          [
           "Isha Koppikar",
           40
          ],
          [
           "Soha Ali Khan",
           28.333333333333332
          ],
          [
           "Johnny Lever",
           30
          ],
          [
           "Ayesha Takia",
           30
          ],
          [
           "Tia Bajpai",
           55
          ],
          [
           "Nasser",
           55
          ],
          [
           "Saurabh Shukla",
           42
          ],
          [
           "Konkona Sen Sharma",
           40.714285714285715
          ],
          [
           "Ameesha Patel",
           39.5
          ],
          [
           "Zayed Khan",
           32.142857142857146
          ],
          [
           "Neha Dhupia",
           32.35294117647059
          ],
          [
           "Irrfan Khan",
           37.142857142857146
          ],
          [
           "Revathy",
           54
          ],
          [
           "Girish Karnad",
           54
          ],
          [
           "Fardeen Khan",
           38.8235294117647
          ],
          [
           "Mahesh Manjrekar",
           41.666666666666664
          ],
          [
           "Shakti Kapoor",
           28.46153846153846
          ],
          [
           "Shiney Ahuja",
           38.888888888888886
          ],
          [
           "Lillete Dubey",
           52.857142857142854
          ],
          [
           "Shreyas Talpade",
           40
          ],
          [
           "Minissha Lamba",
           34
          ],
          [
           "Jimmy Shergill",
           37
          ],
          [
           "Manisha Koirala",
           30.666666666666668
          ],
          [
           "Atul Kulkarni",
           38.75
          ],
          [
           "Amrita Arora",
           35
          ],
          [
           "Neil Nitin Mukesh",
           36.25
          ],
          [
           "Rajat Kapoor",
           33.63636363636363
          ],
          [
           "Aftab Shivdasani",
           37.72727272727273
          ],
          [
           "Ashmit Patel",
           38.333333333333336
          ],
          [
           "Dimple Kapadia",
           33.63636363636363
          ],
          [
           "Urmila Matondkar",
           33.333333333333336
          ],
          [
           "Danny Denzongpa",
           50
          ],
          [
           "Ahsaas Channa",
           50
          ],
          [
           "Prem Chopra",
           23.333333333333332
          ],
          [
           "Sushant Singh",
           26.666666666666668
          ],
          [
           "Rahul Dev",
           23.333333333333332
          ],
          [
           "Kay Kay Menon",
           34.09090909090909
          ],
          [
           "Darshan Jariwala",
           38.57142857142857
          ],
          [
           "Antara Mali",
           31.666666666666668
          ],
          [
           "Jackie Shroff",
           29.6
          ],
          [
           "Vrajesh Hirjee",
           37.5
          ],
          [
           "Vicky Ahuja",
           48
          ],
          [
           "Sandhya Mridul",
           48
          ],
          [
           "Arbaaz Khan",
           31.176470588235293
          ],
          [
           "Prachi Desai",
           47.5
          ],
          [
           "Ali Zafar",
           47.5
          ],
          [
           "Udita Goswami",
           31.11111111111111
          ],
          [
           "Rana Jung Bahadur",
           36
          ],
          [
           "Abhay Deol",
           31.818181818181817
          ],
          [
           "Neetu Chandra",
           32.5
          ],
          [
           "Sanjay Mishra",
           26.666666666666668
          ],
          [
           "Priyanshu Chatterjee",
           35.714285714285715
          ],
          [
           "Raveena Tandon",
           22.666666666666668
          ],
          [
           "Alok Nath",
           46
          ],
          [
           "Mahie Gill",
           32.857142857142854
          ],
          [
           "Sharat Saxena",
           35
          ],
          [
           "Mithun Chakraborty",
           31.304347826086957
          ],
          [
           "Bobby Deol",
           29.583333333333332
          ],
          [
           "Tinnu Anand",
           34.54545454545455
          ],
          [
           "Manjari Phadnis",
           45
          ],
          [
           "Kunal Kapoor",
           45
          ],
          [
           "Ayub Khan",
           45
          ],
          [
           "Kashmira Shah",
           45
          ],
          [
           "Deepak Dobriyal",
           34.285714285714285
          ],
          [
           "Rajpal Yadav",
           31.764705882352942
          ],
          [
           "Divya Dutta",
           23.75
          ],
          [
           "Rajat Bedi",
           33.333333333333336
          ],
          [
           "Rahul Bose",
           25.555555555555557
          ],
          [
           "Parvin Dabas",
           33
          ],
          [
           "Asrani",
           29.23076923076923
          ],
          [
           "Raghuvir Yadav",
           32.857142857142854
          ],
          [
           "Avtar Gill",
           32
          ],
          [
           "Aashish Chaudhary",
           32.22222222222222
          ],
          [
           "Laxmikant Berde",
           32
          ],
          [
           "Nandita Das",
           23.333333333333332
          ],
          [
           "Mukesh Tiwari",
           27.5
          ],
          [
           "Mahima Chaudhry",
           30
          ],
          [
           "Shahana Goswami",
           42
          ],
          [
           "Tara Sharma",
           42
          ],
          [
           "Smita Jaykar",
           42
          ],
          [
           "Gulshan Grover",
           28.78787878787879
          ],
          [
           "Vidya Malvade",
           28.75
          ],
          [
           "Yashpal Sharma",
           30
          ],
          [
           "Manoj Bajpayee",
           27
          ],
          [
           "Ashutosh Rana",
           28.571428571428573
          ],
          [
           "Ravi Kishan",
           25.555555555555557
          ],
          [
           "Nafisa Ali",
           40
          ],
          [
           "Arunoday Singh",
           40
          ],
          [
           "Omkar Das Manikpuri",
           40
          ],
          [
           "Himanshu Malik",
           40
          ],
          [
           "Mimoh Chakraborty",
           40
          ],
          [
           "Nushrat Bharucha",
           40
          ],
          [
           "Sarika",
           40
          ],
          [
           "Hema Malini",
           40
          ],
          [
           "Krishna Bhatt",
           40
          ],
          [
           "Dino Morea",
           24.285714285714285
          ],
          [
           "Tanushree Dutta",
           24.285714285714285
          ],
          [
           "Zakir Hussain",
           21
          ],
          [
           "Asif Basra",
           28.571428571428573
          ],
          [
           "Sachin Khedekar",
           28.181818181818183
          ],
          [
           "Celina Jaitly",
           26.25
          ],
          [
           "Raima Sen",
           20
          ],
          [
           "Gul Panag",
           21.25
          ],
          [
           "Rakesh Bedi",
           26.25
          ],
          [
           "Rati Agnihotri",
           26.31578947368421
          ],
          [
           "Ali Fazal",
           37.5
          ],
          [
           "Aarti Chhabria",
           24
          ],
          [
           "Satish Kaushik",
           24.444444444444443
          ],
          [
           "Seema Biswas",
           25.454545454545453
          ],
          [
           "Sanjay Suri",
           23.076923076923077
          ],
          [
           "Arun Bakshi",
           25
          ],
          [
           "Arya Babbar",
           23.333333333333332
          ],
          [
           "Namrata Shirodkar",
           23.333333333333332
          ],
          [
           "Dipannita Sharma",
           36
          ],
          [
           "Manu Rishi Chadha",
           36
          ],
          [
           "Sharad S. Kapoor",
           22.857142857142858
          ],
          [
           "Farida Jalal",
           23.333333333333332
          ],
          [
           "Mugdha Godse",
           35
          ],
          [
           "Riya Sen",
           34
          ],
          [
           "Bhoomika Chawla",
           34
          ],
          [
           "Tulip Joshi",
           34
          ],
          [
           "Vijay Raaz",
           21.818181818181817
          ],
          [
           "Hrishitaa Bhatt",
           22.22222222222222
          ],
          [
           "Dinesh Hingoo",
           22.857142857142858
          ],
          [
           "Sadashiv Amrapurkar",
           20.90909090909091
          ],
          [
           "Mohnish Bahl",
           22
          ],
          [
           "Farooq Shaikh",
           20
          ],
          [
           "Vikram Gokhale",
           21.428571428571427
          ],
          [
           "Govind Namdeo",
           21.666666666666668
          ],
          [
           "Kurush Deboo",
           21.666666666666668
          ],
          [
           "Sahil Khan",
           32
          ],
          [
           "Yash Tonk",
           32
          ],
          [
           "Ishrat Ali",
           20
          ],
          [
           "Milind Gunaji",
           20
          ],
          [
           "Sudesh Berry",
           20
          ],
          [
           "Rajit Kapoor",
           20
          ],
          [
           "Nassar Abdulla",
           20
          ],
          [
           "Snehal Dabi",
           20
          ],
          [
           "Sandali Sinha",
           30
          ],
          [
           "Kader Khan",
           30
          ],
          [
           "Rajeev Khandelwal",
           30
          ],
          [
           "Anupama Verma",
           30
          ],
          [
           "Anang Desai",
           30
          ],
          [
           "Himesh Reshammiya",
           30
          ],
          [
           "Bharati Achrekar",
           30
          ],
          [
           "Ashish Vidyarthi",
           30
          ],
          [
           "Purab Kohli",
           30
          ],
          [
           "Ila Arun",
           28
          ],
          [
           "Ram Kapoor",
           28
          ],
          [
           "Manoj Joshi",
           28
          ],
          [
           "Preeti Jhangiani",
           28
          ],
          [
           "Jacky Bhagnani",
           28
          ],
          [
           "Anuj Sawhney",
           27.5
          ],
          [
           "Neha Sharma",
           26
          ],
          [
           "Neena Gupta",
           25
          ],
          [
           "Gajendra Chouhan",
           25
          ],
          [
           "Perizaad Zorabian",
           25
          ],
          [
           "Aryan Vaid",
           25
          ],
          [
           "Prateik",
           25
          ],
          [
           "Sayaji Shinde",
           25
          ],
          [
           "Anita Hassandani",
           25
          ],
          [
           "Pooja Batra",
           25
          ],
          [
           "Vatsal Seth",
           24
          ],
          [
           "Suman Ranganathan",
           24
          ],
          [
           "Javed Jaffrey",
           24
          ],
          [
           "Mukesh Bhatt",
           24
          ],
          [
           "Arjan Bajwa",
           22.5
          ],
          [
           "Kabir Bedi",
           22.5
          ],
          [
           "Mukul Dev",
           22.5
          ],
          [
           "Shawar Ali",
           22.5
          ],
          [
           "Ayesha Jhulka",
           22.5
          ],
          [
           "Rajesh Khanna",
           22.5
          ],
          [
           "Birbal",
           22.5
          ],
          [
           "Sayali Bhagat",
           22.5
          ],
          [
           "Kiran Kumar",
           22
          ],
          [
           "Chunky Pandey",
           22
          ],
          [
           "Mandira Bedi",
           22
          ],
          [
           "Makrand Deshpande",
           22
          ],
          [
           "Aditya Srivastava",
           22
          ],
          [
           "Nauheed Cyrusi",
           20
          ],
          [
           "Abhay Bhargav",
           20
          ],
          [
           "Prashant Narayanan",
           20
          ],
          [
           "Puru Rajkumar",
           20
          ],
          [
           "Rohini Hattangadi",
           20
          ],
          [
           "Mukesh Ahuja",
           20
          ],
          [
           "Nagesh Bhonsle",
           20
          ],
          [
           "Shweta Bhardwaj",
           20
          ],
          [
           "Vikas Anand",
           20
          ],
          [
           "Akhilendra Mishra",
           20
          ],
          [
           "Rituparna Sengupta",
           20
          ],
          [
           "Hazel Croney",
           20
          ],
          [
           "Harman Baweja",
           20
          ],
          [
           "Sudha Chandran",
           20
          ],
          [
           "Shabana Azmi",
           20
          ],
          [
           "Benjamin Gilani",
           20
          ],
          [
           "Dev Anand",
           20
          ],
          [
           "Tanvi Azmi",
           20
          ],
          [
           "Adi Irani",
           20
          ],
          [
           "Achint Kaur",
           20
          ],
          [
           "Yuvika Chaudhry",
           20
          ],
          [
           "Pankaj Berry",
           20
          ]
         ],
         "hovertemplate": "fameScore=%{x}<br>talentScore=%{y}<br>actor=%{customdata[0]}<br>avgRating=%{customdata[1]}<br>balanceScore=%{marker.color}<extra></extra>",
         "legendgroup": "",
         "marker": {
          "color": {
           "bdata": "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",
           "dtype": "f8"
          },
          "coloraxis": "coloraxis",
          "symbol": "circle"
         },
         "mode": "markers",
         "name": "",
         "orientation": "v",
         "showlegend": false,
         "type": "scatter",
         "x": {
          "bdata": "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",
          "dtype": "f8"
         },
         "xaxis": "x",
         "y": {
          "bdata": "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",
          "dtype": "f8"
         },
         "yaxis": "y"
        }
       ],
       "layout": {
        "coloraxis": {
         "colorbar": {
          "title": {
           "text": "balanceScore"
          }
         },
         "colorscale": [
          [
           0,
           "#000004"
          ],
          [
           0.1111111111111111,
           "#1b0c41"
          ],
          [
           0.2222222222222222,
           "#4a0c6b"
          ],
          [
           0.3333333333333333,
           "#781c6d"
          ],
          [
           0.4444444444444444,
           "#a52c60"
          ],
          [
           0.5555555555555556,
           "#cf4446"
          ],
          [
           0.6666666666666666,
           "#ed6925"
          ],
          [
           0.7777777777777778,
           "#fb9b06"
          ],
          [
           0.8888888888888888,
           "#f7d13d"
          ],
          [
           1,
           "#fcffa4"
          ]
         ]
        },
        "height": 500,
        "legend": {
         "tracegroupgap": 0
        },
        "margin": {
         "t": 60
        },
        "template": {
         "data": {
          "bar": [
           {
            "error_x": {
             "color": "#2a3f5f"
            },
            "error_y": {
             "color": "#2a3f5f"
            },
            "marker": {
             "line": {
              "color": "#E5ECF6",
              "width": 0.5
             },
             "pattern": {
              "fillmode": "overlay",
              "size": 10,
              "solidity": 0.2
             }
            },
            "type": "bar"
           }
          ],
          "barpolar": [
           {
            "marker": {
             "line": {
              "color": "#E5ECF6",
              "width": 0.5
             },
             "pattern": {
              "fillmode": "overlay",
              "size": 10,
              "solidity": 0.2
             }
            },
            "type": "barpolar"
           }
          ],
          "carpet": [
           {
            "aaxis": {
             "endlinecolor": "#2a3f5f",
             "gridcolor": "white",
             "linecolor": "white",
             "minorgridcolor": "white",
             "startlinecolor": "#2a3f5f"
            },
            "baxis": {
             "endlinecolor": "#2a3f5f",
             "gridcolor": "white",
             "linecolor": "white",
             "minorgridcolor": "white",
             "startlinecolor": "#2a3f5f"
            },
            "type": "carpet"
           }
          ],
          "choropleth": [
           {
            "colorbar": {
             "outlinewidth": 0,
             "ticks": ""
            },
            "type": "choropleth"
           }
          ],
          "contour": [
           {
            "colorbar": {
             "outlinewidth": 0,
             "ticks": ""
            },
            "colorscale": [
             [
              0,
              "#0d0887"
             ],
             [
              0.1111111111111111,
              "#46039f"
             ],
             [
              0.2222222222222222,
              "#7201a8"
             ],
             [
              0.3333333333333333,
              "#9c179e"
             ],
             [
              0.4444444444444444,
              "#bd3786"
             ],
             [
              0.5555555555555556,
              "#d8576b"
             ],
             [
              0.6666666666666666,
              "#ed7953"
             ],
             [
              0.7777777777777778,
              "#fb9f3a"
             ],
             [
              0.8888888888888888,
              "#fdca26"
             ],
             [
              1,
              "#f0f921"
             ]
            ],
            "type": "contour"
           }
          ],
          "contourcarpet": [
           {
            "colorbar": {
             "outlinewidth": 0,
             "ticks": ""
            },
            "type": "contourcarpet"
           }
          ],
          "heatmap": [
           {
            "colorbar": {
             "outlinewidth": 0,
             "ticks": ""
            },
            "colorscale": [
             [
              0,
              "#0d0887"
             ],
             [
              0.1111111111111111,
              "#46039f"
             ],
             [
              0.2222222222222222,
              "#7201a8"
             ],
             [
              0.3333333333333333,
              "#9c179e"
             ],
             [
              0.4444444444444444,
              "#bd3786"
             ],
             [
              0.5555555555555556,
              "#d8576b"
             ],
             [
              0.6666666666666666,
              "#ed7953"
             ],
             [
              0.7777777777777778,
              "#fb9f3a"
             ],
             [
              0.8888888888888888,
              "#fdca26"
             ],
             [
              1,
              "#f0f921"
             ]
            ],
            "type": "heatmap"
           }
          ],
          "histogram": [
           {
            "marker": {
             "pattern": {
              "fillmode": "overlay",
              "size": 10,
              "solidity": 0.2
             }
            },
            "type": "histogram"
           }
          ],
          "histogram2d": [
           {
            "colorbar": {
             "outlinewidth": 0,
             "ticks": ""
            },
            "colorscale": [
             [
              0,
              "#0d0887"
             ],
             [
              0.1111111111111111,
              "#46039f"
             ],
             [
              0.2222222222222222,
              "#7201a8"
             ],
             [
              0.3333333333333333,
              "#9c179e"
             ],
             [
              0.4444444444444444,
              "#bd3786"
             ],
             [
              0.5555555555555556,
              "#d8576b"
             ],
             [
              0.6666666666666666,
              "#ed7953"
             ],
             [
              0.7777777777777778,
              "#fb9f3a"
             ],
             [
              0.8888888888888888,
              "#fdca26"
             ],
             [
              1,
              "#f0f921"
             ]
            ],
            "type": "histogram2d"
           }
          ],
          "histogram2dcontour": [
           {
            "colorbar": {
             "outlinewidth": 0,
             "ticks": ""
            },
            "colorscale": [
             [
              0,
              "#0d0887"
             ],
             [
              0.1111111111111111,
              "#46039f"
             ],
             [
              0.2222222222222222,
              "#7201a8"
             ],
             [
              0.3333333333333333,
              "#9c179e"
             ],
             [
              0.4444444444444444,
              "#bd3786"
             ],
             [
              0.5555555555555556,
              "#d8576b"
             ],
             [
              0.6666666666666666,
              "#ed7953"
             ],
             [
              0.7777777777777778,
              "#fb9f3a"
             ],
             [
              0.8888888888888888,
              "#fdca26"
             ],
             [
              1,
              "#f0f921"
             ]
            ],
            "type": "histogram2dcontour"
           }
          ],
          "mesh3d": [
           {
            "colorbar": {
             "outlinewidth": 0,
             "ticks": ""
            },
            "type": "mesh3d"
           }
          ],
          "parcoords": [
           {
            "line": {
             "colorbar": {
              "outlinewidth": 0,
              "ticks": ""
             }
            },
            "type": "parcoords"
           }
          ],
          "pie": [
           {
            "automargin": true,
            "type": "pie"
           }
          ],
          "scatter": [
           {
            "fillpattern": {
             "fillmode": "overlay",
             "size": 10,
             "solidity": 0.2
            },
            "type": "scatter"
           }
          ],
          "scatter3d": [
           {
            "line": {
             "colorbar": {
              "outlinewidth": 0,
              "ticks": ""
             }
            },
            "marker": {
             "colorbar": {
              "outlinewidth": 0,
              "ticks": ""
             }
            },
            "type": "scatter3d"
           }
          ],
          "scattercarpet": [
           {
            "marker": {
             "colorbar": {
              "outlinewidth": 0,
              "ticks": ""
             }
            },
            "type": "scattercarpet"
           }
          ],
          "scattergeo": [
           {
            "marker": {
             "colorbar": {
              "outlinewidth": 0,
              "ticks": ""
             }
            },
            "type": "scattergeo"
           }
          ],
          "scattergl": [
           {
            "marker": {
             "colorbar": {
              "outlinewidth": 0,
              "ticks": ""
             }
            },
            "type": "scattergl"
           }
          ],
          "scattermap": [
           {
            "marker": {
             "colorbar": {
              "outlinewidth": 0,
              "ticks": ""
             }
            },
            "type": "scattermap"
           }
          ],
          "scattermapbox": [
           {
            "marker": {
             "colorbar": {
              "outlinewidth": 0,
              "ticks": ""
             }
            },
            "type": "scattermapbox"
           }
          ],
          "scatterpolar": [
           {
            "marker": {
             "colorbar": {
              "outlinewidth": 0,
              "ticks": ""
             }
            },
            "type": "scatterpolar"
           }
          ],
          "scatterpolargl": [
           {
            "marker": {
             "colorbar": {
              "outlinewidth": 0,
              "ticks": ""
             }
            },
            "type": "scatterpolargl"
           }
          ],
          "scatterternary": [
           {
            "marker": {
             "colorbar": {
              "outlinewidth": 0,
              "ticks": ""
             }
            },
            "type": "scatterternary"
           }
          ],
          "surface": [
           {
            "colorbar": {
             "outlinewidth": 0,
             "ticks": ""
            },
            "colorscale": [
             [
              0,
              "#0d0887"
             ],
             [
              0.1111111111111111,
              "#46039f"
             ],
             [
              0.2222222222222222,
              "#7201a8"
             ],
             [
              0.3333333333333333,
              "#9c179e"
             ],
             [
              0.4444444444444444,
              "#bd3786"
             ],
             [
              0.5555555555555556,
              "#d8576b"
             ],
             [
              0.6666666666666666,
              "#ed7953"
             ],
             [
              0.7777777777777778,
              "#fb9f3a"
             ],
             [
              0.8888888888888888,
              "#fdca26"
             ],
             [
              1,
              "#f0f921"
             ]
            ],
            "type": "surface"
           }
          ],
          "table": [
           {
            "cells": {
             "fill": {
              "color": "#EBF0F8"
             },
             "line": {
              "color": "white"
             }
            },
            "header": {
             "fill": {
              "color": "#C8D4E3"
             },
             "line": {
              "color": "white"
             }
            },
            "type": "table"
           }
          ]
         },
         "layout": {
          "annotationdefaults": {
           "arrowcolor": "#2a3f5f",
           "arrowhead": 0,
           "arrowwidth": 1
          },
          "autotypenumbers": "strict",
          "coloraxis": {
           "colorbar": {
            "outlinewidth": 0,
            "ticks": ""
           }
          },
          "colorscale": {
           "diverging": [
            [
             0,
             "#8e0152"
            ],
            [
             0.1,
             "#c51b7d"
            ],
            [
             0.2,
             "#de77ae"
            ],
            [
             0.3,
             "#f1b6da"
            ],
            [
             0.4,
             "#fde0ef"
            ],
            [
             0.5,
             "#f7f7f7"
            ],
            [
             0.6,
             "#e6f5d0"
            ],
            [
             0.7,
             "#b8e186"
            ],
            [
             0.8,
             "#7fbc41"
            ],
            [
             0.9,
             "#4d9221"
            ],
            [
             1,
             "#276419"
            ]
           ],
           "sequential": [
            [
             0,
             "#0d0887"
            ],
            [
             0.1111111111111111,
             "#46039f"
            ],
            [
             0.2222222222222222,
             "#7201a8"
            ],
            [
             0.3333333333333333,
             "#9c179e"
            ],
            [
             0.4444444444444444,
             "#bd3786"
            ],
            [
             0.5555555555555556,
             "#d8576b"
            ],
            [
             0.6666666666666666,
             "#ed7953"
            ],
            [
             0.7777777777777778,
             "#fb9f3a"
            ],
            [
             0.8888888888888888,
             "#fdca26"
            ],
            [
             1,
             "#f0f921"
            ]
           ],
           "sequentialminus": [
            [
             0,
             "#0d0887"
            ],
            [
             0.1111111111111111,
             "#46039f"
            ],
            [
             0.2222222222222222,
             "#7201a8"
            ],
            [
             0.3333333333333333,
             "#9c179e"
            ],
            [
             0.4444444444444444,
             "#bd3786"
            ],
            [
             0.5555555555555556,
             "#d8576b"
            ],
            [
             0.6666666666666666,
             "#ed7953"
            ],
            [
             0.7777777777777778,
             "#fb9f3a"
            ],
            [
             0.8888888888888888,
             "#fdca26"
            ],
            [
             1,
             "#f0f921"
            ]
           ]
          },
          "colorway": [
           "#636efa",
           "#EF553B",
           "#00cc96",
           "#ab63fa",
           "#FFA15A",
           "#19d3f3",
           "#FF6692",
           "#B6E880",
           "#FF97FF",
           "#FECB52"
          ],
          "font": {
           "color": "#2a3f5f"
          },
          "geo": {
           "bgcolor": "white",
           "lakecolor": "white",
           "landcolor": "#E5ECF6",
           "showlakes": true,
           "showland": true,
           "subunitcolor": "white"
          },
          "hoverlabel": {
           "align": "left"
          },
          "hovermode": "closest",
          "mapbox": {
           "style": "light"
          },
          "paper_bgcolor": "white",
          "plot_bgcolor": "#E5ECF6",
          "polar": {
           "angularaxis": {
            "gridcolor": "white",
            "linecolor": "white",
            "ticks": ""
           },
           "bgcolor": "#E5ECF6",
           "radialaxis": {
            "gridcolor": "white",
            "linecolor": "white",
            "ticks": ""
           }
          },
          "scene": {
           "xaxis": {
            "backgroundcolor": "#E5ECF6",
            "gridcolor": "white",
            "gridwidth": 2,
            "linecolor": "white",
            "showbackground": true,
            "ticks": "",
            "zerolinecolor": "white"
           },
           "yaxis": {
            "backgroundcolor": "#E5ECF6",
            "gridcolor": "white",
            "gridwidth": 2,
            "linecolor": "white",
            "showbackground": true,
            "ticks": "",
            "zerolinecolor": "white"
           },
           "zaxis": {
            "backgroundcolor": "#E5ECF6",
            "gridcolor": "white",
            "gridwidth": 2,
            "linecolor": "white",
            "showbackground": true,
            "ticks": "",
            "zerolinecolor": "white"
           }
          },
          "shapedefaults": {
           "line": {
            "color": "#2a3f5f"
           }
          },
          "ternary": {
           "aaxis": {
            "gridcolor": "white",
            "linecolor": "white",
            "ticks": ""
           },
           "baxis": {
            "gridcolor": "white",
            "linecolor": "white",
            "ticks": ""
           },
           "bgcolor": "#E5ECF6",
           "caxis": {
            "gridcolor": "white",
            "linecolor": "white",
            "ticks": ""
           }
          },
          "title": {
           "x": 0.05
          },
          "xaxis": {
           "automargin": true,
           "gridcolor": "white",
           "linecolor": "white",
           "ticks": "",
           "title": {
            "standoff": 15
           },
           "zerolinecolor": "white",
           "zerolinewidth": 2
          },
          "yaxis": {
           "automargin": true,
           "gridcolor": "white",
           "linecolor": "white",
           "ticks": "",
           "title": {
            "standoff": 15
           },
           "zerolinecolor": "white",
           "zerolinewidth": 2
          }
         }
        },
        "title": {
         "text": "Fame vs Talent (colored by balance)"
        },
        "width": 800,
        "xaxis": {
         "anchor": "y",
         "domain": [
          0,
          1
         ],
         "title": {
          "text": "fameScore"
         }
        },
        "yaxis": {
         "anchor": "x",
         "domain": [
          0,
          1
         ],
         "title": {
          "text": "talentScore"
         }
        }
       }
      }
     },
     "metadata": {},
     "output_type": "display_data"
    },
    {
     "data": {
      "application/vnd.plotly.v1+json": {
       "config": {
        "plotlyServerURL": "https://plot.ly"
       },
       "data": [
        {
         "hovertemplate": "fameScore=%{x}<br>actor=%{y}<extra></extra>",
         "legendgroup": "",
         "marker": {
          "color": "#636efa",
          "pattern": {
           "shape": ""
          }
         },
         "name": "",
         "orientation": "h",
         "showlegend": false,
         "textposition": "auto",
         "type": "bar",
         "x": {
          "bdata": "VVVV1cBL6j8AAACAROLnPwAAAAB60+c/5DiO4xoE5z9WVVVVewPmP6qqqqrZ1+Q/VlVVVfV75D+rqqqqDVfkP+Q4juMEHuM/5DiO4wG54T8=",
          "dtype": "f8"
         },
         "xaxis": "x",
         "y": [
          "Aamir Khan",
          "Shah Rukh Khan",
          "Salman Khan",
          "Katrina Kaif",
          "Deepika Padukone",
          "Hrithik Roshan",
          "Priyanka Chopra",
          "Kareena Kapoor",
          "Ranbir Kapoor",
          "Kajol"
         ],
         "yaxis": "y"
        }
       ],
       "layout": {
        "barmode": "relative",
        "legend": {
         "tracegroupgap": 0
        },
        "template": {
         "data": {
          "bar": [
           {
            "error_x": {
             "color": "#2a3f5f"
            },
            "error_y": {
             "color": "#2a3f5f"
            },
            "marker": {
             "line": {
              "color": "#E5ECF6",
              "width": 0.5
             },
             "pattern": {
              "fillmode": "overlay",
              "size": 10,
              "solidity": 0.2
             }
            },
            "type": "bar"
           }
          ],
          "barpolar": [
           {
            "marker": {
             "line": {
              "color": "#E5ECF6",
              "width": 0.5
             },
             "pattern": {
              "fillmode": "overlay",
              "size": 10,
              "solidity": 0.2
             }
            },
            "type": "barpolar"
           }
          ],
          "carpet": [
           {
            "aaxis": {
             "endlinecolor": "#2a3f5f",
             "gridcolor": "white",
             "linecolor": "white",
             "minorgridcolor": "white",
             "startlinecolor": "#2a3f5f"
            },
            "baxis": {
             "endlinecolor": "#2a3f5f",
             "gridcolor": "white",
             "linecolor": "white",
             "minorgridcolor": "white",
             "startlinecolor": "#2a3f5f"
            },
            "type": "carpet"
           }
          ],
          "choropleth": [
           {
            "colorbar": {
             "outlinewidth": 0,
             "ticks": ""
            },
            "type": "choropleth"
           }
          ],
          "contour": [
           {
            "colorbar": {
             "outlinewidth": 0,
             "ticks": ""
            },
            "colorscale": [
             [
              0,
              "#0d0887"
             ],
             [
              0.1111111111111111,
              "#46039f"
             ],
             [
              0.2222222222222222,
              "#7201a8"
             ],
             [
              0.3333333333333333,
              "#9c179e"
             ],
             [
              0.4444444444444444,
              "#bd3786"
             ],
             [
              0.5555555555555556,
              "#d8576b"
             ],
             [
              0.6666666666666666,
              "#ed7953"
             ],
             [
              0.7777777777777778,
              "#fb9f3a"
             ],
             [
              0.8888888888888888,
              "#fdca26"
             ],
             [
              1,
              "#f0f921"
             ]
            ],
            "type": "contour"
           }
          ],
          "contourcarpet": [
           {
            "colorbar": {
             "outlinewidth": 0,
             "ticks": ""
            },
            "type": "contourcarpet"
           }
          ],
          "heatmap": [
           {
            "colorbar": {
             "outlinewidth": 0,
             "ticks": ""
            },
            "colorscale": [
             [
              0,
              "#0d0887"
             ],
             [
              0.1111111111111111,
              "#46039f"
             ],
             [
              0.2222222222222222,
              "#7201a8"
             ],
             [
              0.3333333333333333,
              "#9c179e"
             ],
             [
              0.4444444444444444,
              "#bd3786"
             ],
             [
              0.5555555555555556,
              "#d8576b"
             ],
             [
              0.6666666666666666,
              "#ed7953"
             ],
             [
              0.7777777777777778,
              "#fb9f3a"
             ],
             [
              0.8888888888888888,
              "#fdca26"
             ],
             [
              1,
              "#f0f921"
             ]
            ],
            "type": "heatmap"
           }
          ],
          "histogram": [
           {
            "marker": {
             "pattern": {
              "fillmode": "overlay",
              "size": 10,
              "solidity": 0.2
             }
            },
            "type": "histogram"
           }
          ],
          "histogram2d": [
           {
            "colorbar": {
             "outlinewidth": 0,
             "ticks": ""
            },
            "colorscale": [
             [
              0,
              "#0d0887"
             ],
             [
              0.1111111111111111,
              "#46039f"
             ],
             [
              0.2222222222222222,
              "#7201a8"
             ],
             [
              0.3333333333333333,
              "#9c179e"
             ],
             [
              0.4444444444444444,
              "#bd3786"
             ],
             [
              0.5555555555555556,
              "#d8576b"
             ],
             [
              0.6666666666666666,
              "#ed7953"
             ],
             [
              0.7777777777777778,
              "#fb9f3a"
             ],
             [
              0.8888888888888888,
              "#fdca26"
             ],
             [
              1,
              "#f0f921"
             ]
            ],
            "type": "histogram2d"
           }
          ],
          "histogram2dcontour": [
           {
            "colorbar": {
             "outlinewidth": 0,
             "ticks": ""
            },
            "colorscale": [
             [
              0,
              "#0d0887"
             ],
             [
              0.1111111111111111,
              "#46039f"
             ],
             [
              0.2222222222222222,
              "#7201a8"
             ],
             [
              0.3333333333333333,
              "#9c179e"
             ],
             [
              0.4444444444444444,
              "#bd3786"
             ],
             [
              0.5555555555555556,
              "#d8576b"
             ],
             [
              0.6666666666666666,
              "#ed7953"
             ],
             [
              0.7777777777777778,
              "#fb9f3a"
             ],
             [
              0.8888888888888888,
              "#fdca26"
             ],
             [
              1,
              "#f0f921"
             ]
            ],
            "type": "histogram2dcontour"
           }
          ],
          "mesh3d": [
           {
            "colorbar": {
             "outlinewidth": 0,
             "ticks": ""
            },
            "type": "mesh3d"
           }
          ],
          "parcoords": [
           {
            "line": {
             "colorbar": {
              "outlinewidth": 0,
              "ticks": ""
             }
            },
            "type": "parcoords"
           }
          ],
          "pie": [
           {
            "automargin": true,
            "type": "pie"
           }
          ],
          "scatter": [
           {
            "fillpattern": {
             "fillmode": "overlay",
             "size": 10,
             "solidity": 0.2
            },
            "type": "scatter"
           }
          ],
          "scatter3d": [
           {
            "line": {
             "colorbar": {
              "outlinewidth": 0,
              "ticks": ""
             }
            },
            "marker": {
             "colorbar": {
              "outlinewidth": 0,
              "ticks": ""
             }
            },
            "type": "scatter3d"
           }
          ],
          "scattercarpet": [
           {
            "marker": {
             "colorbar": {
              "outlinewidth": 0,
              "ticks": ""
             }
            },
            "type": "scattercarpet"
           }
          ],
          "scattergeo": [
           {
            "marker": {
             "colorbar": {
              "outlinewidth": 0,
              "ticks": ""
             }
            },
            "type": "scattergeo"
           }
          ],
          "scattergl": [
           {
            "marker": {
             "colorbar": {
              "outlinewidth": 0,
              "ticks": ""
             }
            },
            "type": "scattergl"
           }
          ],
          "scattermap": [
           {
            "marker": {
             "colorbar": {
              "outlinewidth": 0,
              "ticks": ""
             }
            },
            "type": "scattermap"
           }
          ],
          "scattermapbox": [
           {
            "marker": {
             "colorbar": {
              "outlinewidth": 0,
              "ticks": ""
             }
            },
            "type": "scattermapbox"
           }
          ],
          "scatterpolar": [
           {
            "marker": {
             "colorbar": {
              "outlinewidth": 0,
              "ticks": ""
             }
            },
            "type": "scatterpolar"
           }
          ],
          "scatterpolargl": [
           {
            "marker": {
             "colorbar": {
              "outlinewidth": 0,
              "ticks": ""
             }
            },
            "type": "scatterpolargl"
           }
          ],
          "scatterternary": [
           {
            "marker": {
             "colorbar": {
              "outlinewidth": 0,
              "ticks": ""
             }
            },
            "type": "scatterternary"
           }
          ],
          "surface": [
           {
            "colorbar": {
             "outlinewidth": 0,
             "ticks": ""
            },
            "colorscale": [
             [
              0,
              "#0d0887"
             ],
             [
              0.1111111111111111,
              "#46039f"
             ],
             [
              0.2222222222222222,
              "#7201a8"
             ],
             [
              0.3333333333333333,
              "#9c179e"
             ],
             [
              0.4444444444444444,
              "#bd3786"
             ],
             [
              0.5555555555555556,
              "#d8576b"
             ],
             [
              0.6666666666666666,
              "#ed7953"
             ],
             [
              0.7777777777777778,
              "#fb9f3a"
             ],
             [
              0.8888888888888888,
              "#fdca26"
             ],
             [
              1,
              "#f0f921"
             ]
            ],
            "type": "surface"
           }
          ],
          "table": [
           {
            "cells": {
             "fill": {
              "color": "#EBF0F8"
             },
             "line": {
              "color": "white"
             }
            },
            "header": {
             "fill": {
              "color": "#C8D4E3"
             },
             "line": {
              "color": "white"
             }
            },
            "type": "table"
           }
          ]
         },
         "layout": {
          "annotationdefaults": {
           "arrowcolor": "#2a3f5f",
           "arrowhead": 0,
           "arrowwidth": 1
          },
          "autotypenumbers": "strict",
          "coloraxis": {
           "colorbar": {
            "outlinewidth": 0,
            "ticks": ""
           }
          },
          "colorscale": {
           "diverging": [
            [
             0,
             "#8e0152"
            ],
            [
             0.1,
             "#c51b7d"
            ],
            [
             0.2,
             "#de77ae"
            ],
            [
             0.3,
             "#f1b6da"
            ],
            [
             0.4,
             "#fde0ef"
            ],
            [
             0.5,
             "#f7f7f7"
            ],
            [
             0.6,
             "#e6f5d0"
            ],
            [
             0.7,
             "#b8e186"
            ],
            [
             0.8,
             "#7fbc41"
            ],
            [
             0.9,
             "#4d9221"
            ],
            [
             1,
             "#276419"
            ]
           ],
           "sequential": [
            [
             0,
             "#0d0887"
            ],
            [
             0.1111111111111111,
             "#46039f"
            ],
            [
             0.2222222222222222,
             "#7201a8"
            ],
            [
             0.3333333333333333,
             "#9c179e"
            ],
            [
             0.4444444444444444,
             "#bd3786"
            ],
            [
             0.5555555555555556,
             "#d8576b"
            ],
            [
             0.6666666666666666,
             "#ed7953"
            ],
            [
             0.7777777777777778,
             "#fb9f3a"
            ],
            [
             0.8888888888888888,
             "#fdca26"
            ],
            [
             1,
             "#f0f921"
            ]
           ],
           "sequentialminus": [
            [
             0,
             "#0d0887"
            ],
            [
             0.1111111111111111,
             "#46039f"
            ],
            [
             0.2222222222222222,
             "#7201a8"
            ],
            [
             0.3333333333333333,
             "#9c179e"
            ],
            [
             0.4444444444444444,
             "#bd3786"
            ],
            [
             0.5555555555555556,
             "#d8576b"
            ],
            [
             0.6666666666666666,
             "#ed7953"
            ],
            [
             0.7777777777777778,
             "#fb9f3a"
            ],
            [
             0.8888888888888888,
             "#fdca26"
            ],
            [
             1,
             "#f0f921"
            ]
           ]
          },
          "colorway": [
           "#636efa",
           "#EF553B",
           "#00cc96",
           "#ab63fa",
           "#FFA15A",
           "#19d3f3",
           "#FF6692",
           "#B6E880",
           "#FF97FF",
           "#FECB52"
          ],
          "font": {
           "color": "#2a3f5f"
          },
          "geo": {
           "bgcolor": "white",
           "lakecolor": "white",
           "landcolor": "#E5ECF6",
           "showlakes": true,
           "showland": true,
           "subunitcolor": "white"
          },
          "hoverlabel": {
           "align": "left"
          },
          "hovermode": "closest",
          "mapbox": {
           "style": "light"
          },
          "paper_bgcolor": "white",
          "plot_bgcolor": "#E5ECF6",
          "polar": {
           "angularaxis": {
            "gridcolor": "white",
            "linecolor": "white",
            "ticks": ""
           },
           "bgcolor": "#E5ECF6",
           "radialaxis": {
            "gridcolor": "white",
            "linecolor": "white",
            "ticks": ""
           }
          },
          "scene": {
           "xaxis": {
            "backgroundcolor": "#E5ECF6",
            "gridcolor": "white",
            "gridwidth": 2,
            "linecolor": "white",
            "showbackground": true,
            "ticks": "",
            "zerolinecolor": "white"
           },
           "yaxis": {
            "backgroundcolor": "#E5ECF6",
            "gridcolor": "white",
            "gridwidth": 2,
            "linecolor": "white",
            "showbackground": true,
            "ticks": "",
            "zerolinecolor": "white"
           },
           "zaxis": {
            "backgroundcolor": "#E5ECF6",
            "gridcolor": "white",
            "gridwidth": 2,
            "linecolor": "white",
            "showbackground": true,
            "ticks": "",
            "zerolinecolor": "white"
           }
          },
          "shapedefaults": {
           "line": {
            "color": "#2a3f5f"
           }
          },
          "ternary": {
           "aaxis": {
            "gridcolor": "white",
            "linecolor": "white",
            "ticks": ""
           },
           "baxis": {
            "gridcolor": "white",
            "linecolor": "white",
            "ticks": ""
           },
           "bgcolor": "#E5ECF6",
           "caxis": {
            "gridcolor": "white",
            "linecolor": "white",
            "ticks": ""
           }
          },
          "title": {
           "x": 0.05
          },
          "xaxis": {
           "automargin": true,
           "gridcolor": "white",
           "linecolor": "white",
           "ticks": "",
           "title": {
            "standoff": 15
           },
           "zerolinecolor": "white",
           "zerolinewidth": 2
          },
          "yaxis": {
           "automargin": true,
           "gridcolor": "white",
           "linecolor": "white",
           "ticks": "",
           "title": {
            "standoff": 15
           },
           "zerolinecolor": "white",
           "zerolinewidth": 2
          }
         }
        },
        "title": {
         "text": "Top 10 by Fame"
        },
        "xaxis": {
         "anchor": "y",
         "domain": [
          0,
          1
         ],
         "title": {
          "text": "fameScore"
         }
        },
        "yaxis": {
         "anchor": "x",
         "domain": [
          0,
          1
         ],
         "title": {
          "text": "actor"
         }
        }
       }
      }
     },
     "metadata": {},
     "output_type": "display_data"
    },
    {
     "data": {
      "application/vnd.plotly.v1+json": {
       "config": {
        "plotlyServerURL": "https://plot.ly"
       },
       "data": [
        {
         "hovertemplate": "talentScore=%{x}<br>actor=%{y}<extra></extra>",
         "legendgroup": "",
         "marker": {
          "color": "#636efa",
          "pattern": {
           "shape": ""
          }
         },
         "name": "",
         "orientation": "h",
         "showlegend": false,
         "textposition": "auto",
         "type": "bar",
         "x": {
          "bdata": "AAAAAAAA8D9UVVVVKUDtP5DjOI5LL+0/UlVVVetC7D8cx3EcaR7rP3Icx3HgyOk/5TiO4yBg6T8Zx3EcETbpPzeO4zhA0ec/HMdxHE865j8=",
          "dtype": "f8"
         },
         "xaxis": "x",
         "y": [
          "Aamir Khan",
          "Shah Rukh Khan",
          "Salman Khan",
          "Katrina Kaif",
          "Deepika Padukone",
          "Hrithik Roshan",
          "Priyanka Chopra",
          "Kareena Kapoor",
          "Ranbir Kapoor",
          "Kajol"
         ],
         "yaxis": "y"
        }
       ],
       "layout": {
        "barmode": "relative",
        "legend": {
         "tracegroupgap": 0
        },
        "template": {
         "data": {
          "bar": [
           {
            "error_x": {
             "color": "#2a3f5f"
            },
            "error_y": {
             "color": "#2a3f5f"
            },
            "marker": {
             "line": {
              "color": "#E5ECF6",
              "width": 0.5
             },
             "pattern": {
              "fillmode": "overlay",
              "size": 10,
              "solidity": 0.2
             }
            },
            "type": "bar"
           }
          ],
          "barpolar": [
           {
            "marker": {
             "line": {
              "color": "#E5ECF6",
              "width": 0.5
             },
             "pattern": {
              "fillmode": "overlay",
              "size": 10,
              "solidity": 0.2
             }
            },
            "type": "barpolar"
           }
          ],
          "carpet": [
           {
            "aaxis": {
             "endlinecolor": "#2a3f5f",
             "gridcolor": "white",
             "linecolor": "white",
             "minorgridcolor": "white",
             "startlinecolor": "#2a3f5f"
            },
            "baxis": {
             "endlinecolor": "#2a3f5f",
             "gridcolor": "white",
             "linecolor": "white",
             "minorgridcolor": "white",
             "startlinecolor": "#2a3f5f"
            },
            "type": "carpet"
           }
          ],
          "choropleth": [
           {
            "colorbar": {
             "outlinewidth": 0,
             "ticks": ""
            },
            "type": "choropleth"
           }
          ],
          "contour": [
           {
            "colorbar": {
             "outlinewidth": 0,
             "ticks": ""
            },
            "colorscale": [
             [
              0,
              "#0d0887"
             ],
             [
              0.1111111111111111,
              "#46039f"
             ],
             [
              0.2222222222222222,
              "#7201a8"
             ],
             [
              0.3333333333333333,
              "#9c179e"
             ],
             [
              0.4444444444444444,
              "#bd3786"
             ],
             [
              0.5555555555555556,
              "#d8576b"
             ],
             [
              0.6666666666666666,
              "#ed7953"
             ],
             [
              0.7777777777777778,
              "#fb9f3a"
             ],
             [
              0.8888888888888888,
              "#fdca26"
             ],
             [
              1,
              "#f0f921"
             ]
            ],
            "type": "contour"
           }
          ],
          "contourcarpet": [
           {
            "colorbar": {
             "outlinewidth": 0,
             "ticks": ""
            },
            "type": "contourcarpet"
           }
          ],
          "heatmap": [
           {
            "colorbar": {
             "outlinewidth": 0,
             "ticks": ""
            },
            "colorscale": [
             [
              0,
              "#0d0887"
             ],
             [
              0.1111111111111111,
              "#46039f"
             ],
             [
              0.2222222222222222,
              "#7201a8"
             ],
             [
              0.3333333333333333,
              "#9c179e"
             ],
             [
              0.4444444444444444,
              "#bd3786"
             ],
             [
              0.5555555555555556,
              "#d8576b"
             ],
             [
              0.6666666666666666,
              "#ed7953"
             ],
             [
              0.7777777777777778,
              "#fb9f3a"
             ],
             [
              0.8888888888888888,
              "#fdca26"
             ],
             [
              1,
              "#f0f921"
             ]
            ],
            "type": "heatmap"
           }
          ],
          "histogram": [
           {
            "marker": {
             "pattern": {
              "fillmode": "overlay",
              "size": 10,
              "solidity": 0.2
             }
            },
            "type": "histogram"
           }
          ],
          "histogram2d": [
           {
            "colorbar": {
             "outlinewidth": 0,
             "ticks": ""
            },
            "colorscale": [
             [
              0,
              "#0d0887"
             ],
             [
              0.1111111111111111,
              "#46039f"
             ],
             [
              0.2222222222222222,
              "#7201a8"
             ],
             [
              0.3333333333333333,
              "#9c179e"
             ],
             [
              0.4444444444444444,
              "#bd3786"
             ],
             [
              0.5555555555555556,
              "#d8576b"
             ],
             [
              0.6666666666666666,
              "#ed7953"
             ],
             [
              0.7777777777777778,
              "#fb9f3a"
             ],
             [
              0.8888888888888888,
              "#fdca26"
             ],
             [
              1,
              "#f0f921"
             ]
            ],
            "type": "histogram2d"
           }
          ],
          "histogram2dcontour": [
           {
            "colorbar": {
             "outlinewidth": 0,
             "ticks": ""
            },
            "colorscale": [
             [
              0,
              "#0d0887"
             ],
             [
              0.1111111111111111,
              "#46039f"
             ],
             [
              0.2222222222222222,
              "#7201a8"
             ],
             [
              0.3333333333333333,
              "#9c179e"
             ],
             [
              0.4444444444444444,
              "#bd3786"
             ],
             [
              0.5555555555555556,
              "#d8576b"
             ],
             [
              0.6666666666666666,
              "#ed7953"
             ],
             [
              0.7777777777777778,
              "#fb9f3a"
             ],
             [
              0.8888888888888888,
              "#fdca26"
             ],
             [
              1,
              "#f0f921"
             ]
            ],
            "type": "histogram2dcontour"
           }
          ],
          "mesh3d": [
           {
            "colorbar": {
             "outlinewidth": 0,
             "ticks": ""
            },
            "type": "mesh3d"
           }
          ],
          "parcoords": [
           {
            "line": {
             "colorbar": {
              "outlinewidth": 0,
              "ticks": ""
             }
            },
            "type": "parcoords"
           }
          ],
          "pie": [
           {
            "automargin": true,
            "type": "pie"
           }
          ],
          "scatter": [
           {
            "fillpattern": {
             "fillmode": "overlay",
             "size": 10,
             "solidity": 0.2
            },
            "type": "scatter"
           }
          ],
          "scatter3d": [
           {
            "line": {
             "colorbar": {
              "outlinewidth": 0,
              "ticks": ""
             }
            },
            "marker": {
             "colorbar": {
              "outlinewidth": 0,
              "ticks": ""
             }
            },
            "type": "scatter3d"
           }
          ],
          "scattercarpet": [
           {
            "marker": {
             "colorbar": {
              "outlinewidth": 0,
              "ticks": ""
             }
            },
            "type": "scattercarpet"
           }
          ],
          "scattergeo": [
           {
            "marker": {
             "colorbar": {
              "outlinewidth": 0,
              "ticks": ""
             }
            },
            "type": "scattergeo"
           }
          ],
          "scattergl": [
           {
            "marker": {
             "colorbar": {
              "outlinewidth": 0,
              "ticks": ""
             }
            },
            "type": "scattergl"
           }
          ],
          "scattermap": [
           {
            "marker": {
             "colorbar": {
              "outlinewidth": 0,
              "ticks": ""
             }
            },
            "type": "scattermap"
           }
          ],
          "scattermapbox": [
           {
            "marker": {
             "colorbar": {
              "outlinewidth": 0,
              "ticks": ""
             }
            },
            "type": "scattermapbox"
           }
          ],
          "scatterpolar": [
           {
            "marker": {
             "colorbar": {
              "outlinewidth": 0,
              "ticks": ""
             }
            },
            "type": "scatterpolar"
           }
          ],
          "scatterpolargl": [
           {
            "marker": {
             "colorbar": {
              "outlinewidth": 0,
              "ticks": ""
             }
            },
            "type": "scatterpolargl"
           }
          ],
          "scatterternary": [
           {
            "marker": {
             "colorbar": {
              "outlinewidth": 0,
              "ticks": ""
             }
            },
            "type": "scatterternary"
           }
          ],
          "surface": [
           {
            "colorbar": {
             "outlinewidth": 0,
             "ticks": ""
            },
            "colorscale": [
             [
              0,
              "#0d0887"
             ],
             [
              0.1111111111111111,
              "#46039f"
             ],
             [
              0.2222222222222222,
              "#7201a8"
             ],
             [
              0.3333333333333333,
              "#9c179e"
             ],
             [
              0.4444444444444444,
              "#bd3786"
             ],
             [
              0.5555555555555556,
              "#d8576b"
             ],
             [
              0.6666666666666666,
              "#ed7953"
             ],
             [
              0.7777777777777778,
              "#fb9f3a"
             ],
             [
              0.8888888888888888,
              "#fdca26"
             ],
             [
              1,
              "#f0f921"
             ]
            ],
            "type": "surface"
           }
          ],
          "table": [
           {
            "cells": {
             "fill": {
              "color": "#EBF0F8"
             },
             "line": {
              "color": "white"
             }
            },
            "header": {
             "fill": {
              "color": "#C8D4E3"
             },
             "line": {
              "color": "white"
             }
            },
            "type": "table"
           }
          ]
         },
         "layout": {
          "annotationdefaults": {
           "arrowcolor": "#2a3f5f",
           "arrowhead": 0,
           "arrowwidth": 1
          },
          "autotypenumbers": "strict",
          "coloraxis": {
           "colorbar": {
            "outlinewidth": 0,
            "ticks": ""
           }
          },
          "colorscale": {
           "diverging": [
            [
             0,
             "#8e0152"
            ],
            [
             0.1,
             "#c51b7d"
            ],
            [
             0.2,
             "#de77ae"
            ],
            [
             0.3,
             "#f1b6da"
            ],
            [
             0.4,
             "#fde0ef"
            ],
            [
             0.5,
             "#f7f7f7"
            ],
            [
             0.6,
             "#e6f5d0"
            ],
            [
             0.7,
             "#b8e186"
            ],
            [
             0.8,
             "#7fbc41"
            ],
            [
             0.9,
             "#4d9221"
            ],
            [
             1,
             "#276419"
            ]
           ],
           "sequential": [
            [
             0,
             "#0d0887"
            ],
            [
             0.1111111111111111,
             "#46039f"
            ],
            [
             0.2222222222222222,
             "#7201a8"
            ],
            [
             0.3333333333333333,
             "#9c179e"
            ],
            [
             0.4444444444444444,
             "#bd3786"
            ],
            [
             0.5555555555555556,
             "#d8576b"
            ],
            [
             0.6666666666666666,
             "#ed7953"
            ],
            [
             0.7777777777777778,
             "#fb9f3a"
            ],
            [
             0.8888888888888888,
             "#fdca26"
            ],
            [
             1,
             "#f0f921"
            ]
           ],
           "sequentialminus": [
            [
             0,
             "#0d0887"
            ],
            [
             0.1111111111111111,
             "#46039f"
            ],
            [
             0.2222222222222222,
             "#7201a8"
            ],
            [
             0.3333333333333333,
             "#9c179e"
            ],
            [
             0.4444444444444444,
             "#bd3786"
            ],
            [
             0.5555555555555556,
             "#d8576b"
            ],
            [
             0.6666666666666666,
             "#ed7953"
            ],
            [
             0.7777777777777778,
             "#fb9f3a"
            ],
            [
             0.8888888888888888,
             "#fdca26"
            ],
            [
             1,
             "#f0f921"
            ]
           ]
          },
          "colorway": [
           "#636efa",
           "#EF553B",
           "#00cc96",
           "#ab63fa",
           "#FFA15A",
           "#19d3f3",
           "#FF6692",
           "#B6E880",
           "#FF97FF",
           "#FECB52"
          ],
          "font": {
           "color": "#2a3f5f"
          },
          "geo": {
           "bgcolor": "white",
           "lakecolor": "white",
           "landcolor": "#E5ECF6",
           "showlakes": true,
           "showland": true,
           "subunitcolor": "white"
          },
          "hoverlabel": {
           "align": "left"
          },
          "hovermode": "closest",
          "mapbox": {
           "style": "light"
          },
          "paper_bgcolor": "white",
          "plot_bgcolor": "#E5ECF6",
          "polar": {
           "angularaxis": {
            "gridcolor": "white",
            "linecolor": "white",
            "ticks": ""
           },
           "bgcolor": "#E5ECF6",
           "radialaxis": {
            "gridcolor": "white",
            "linecolor": "white",
            "ticks": ""
           }
          },
          "scene": {
           "xaxis": {
            "backgroundcolor": "#E5ECF6",
            "gridcolor": "white",
            "gridwidth": 2,
            "linecolor": "white",
            "showbackground": true,
            "ticks": "",
            "zerolinecolor": "white"
           },
           "yaxis": {
            "backgroundcolor": "#E5ECF6",
            "gridcolor": "white",
            "gridwidth": 2,
            "linecolor": "white",
            "showbackground": true,
            "ticks": "",
            "zerolinecolor": "white"
           },
           "zaxis": {
            "backgroundcolor": "#E5ECF6",
            "gridcolor": "white",
            "gridwidth": 2,
            "linecolor": "white",
            "showbackground": true,
            "ticks": "",
            "zerolinecolor": "white"
           }
          },
          "shapedefaults": {
           "line": {
            "color": "#2a3f5f"
           }
          },
          "ternary": {
           "aaxis": {
            "gridcolor": "white",
            "linecolor": "white",
            "ticks": ""
           },
           "baxis": {
            "gridcolor": "white",
            "linecolor": "white",
            "ticks": ""
           },
           "bgcolor": "#E5ECF6",
           "caxis": {
            "gridcolor": "white",
            "linecolor": "white",
            "ticks": ""
           }
          },
          "title": {
           "x": 0.05
          },
          "xaxis": {
           "automargin": true,
           "gridcolor": "white",
           "linecolor": "white",
           "ticks": "",
           "title": {
            "standoff": 15
           },
           "zerolinecolor": "white",
           "zerolinewidth": 2
          },
          "yaxis": {
           "automargin": true,
           "gridcolor": "white",
           "linecolor": "white",
           "ticks": "",
           "title": {
            "standoff": 15
           },
           "zerolinecolor": "white",
           "zerolinewidth": 2
          }
         }
        },
        "title": {
         "text": "Top 10 by Talent"
        },
        "xaxis": {
         "anchor": "y",
         "domain": [
          0,
          1
         ],
         "title": {
          "text": "talentScore"
         }
        },
        "yaxis": {
         "anchor": "x",
         "domain": [
          0,
          1
         ],
         "title": {
          "text": "actor"
         }
        }
       }
      }
     },
     "metadata": {},
     "output_type": "display_data"
    }
   ],
   "source": [
    "# Correlation\n",
    "from scipy.stats import pearsonr\n",
    "corr, p = pearsonr(df['fameScore'], df['talentScore'])\n",
    "print(f'Pearson r = {corr:.3f}, p = {p:.3e}')\n",
    "# Scatter plot\n",
    "fig = px.scatter(df, x='fameScore', y='talentScore', hover_data=['actor','avgRating'], color='balanceScore', color_continuous_scale='Inferno')\n",
    "fig.update_layout(width=800, height=500, title='Fame vs Talent (colored by balance)')\n",
    "fig.show()\n",
    "# Bar charts: top 10 comparison\n",
    "fig1 = px.bar(df.sort_values('fameScore', ascending=False).head(10), x='fameScore', y='actor', orientation='h', title='Top 10 by Fame')\n",
    "fig1.show()\n",
    "fig2 = px.bar(df.sort_values('talentScore', ascending=False).head(10), x='talentScore', y='actor', orientation='h', title='Top 10 by Talent')\n",
    "fig2.show()"
   ]
  },
  {
   "cell_type": "markdown",
   "id": "fb40d563",
   "metadata": {},
   "source": [
    "## Run the Streamlit App\n",
    "To run the dashboard locally, install dependencies from `requirements.txt` and then run:\n",
    "```\n",
    "streamlit run streamlit_app.py\n",
    "```"
   ]
  }
 ],
 "metadata": {
  "kernelspec": {
   "display_name": "Python 3",
   "language": "python",
   "name": "python3"
  },
  "language_info": {
   "codemirror_mode": {
    "name": "ipython",
    "version": 3
   },
   "file_extension": ".py",
   "mimetype": "text/x-python",
   "name": "python",
   "nbconvert_exporter": "python",
   "pygments_lexer": "ipython3",
   "version": "3.11.9"
  }
 },
 "nbformat": 4,
 "nbformat_minor": 5
}
